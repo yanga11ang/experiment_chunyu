{
 "cells": [
  {
   "cell_type": "code",
   "execution_count": 24,
   "metadata": {},
   "outputs": [
    {
     "name": "stdout",
     "output_type": "stream",
     "text": [
      "                                                   type1\n",
      "cell                                                    \n",
      "10000  17 17 14 14 14 14 12 12 12 12 12 12 12 12 12 1...\n",
      "10001  17 17 14 14 14 14 19 19 12 12 12 12 20 20 20 2...\n",
      "10003                                            19 20 9\n",
      "10004  17 17 17 14 14 14 14 14 14 14 14 12 12 12 12 1...\n",
      "10005  17 17 17 14 14 14 14 14 12 12 12 12 12 12 12 1...\n",
      "<class 'pandas.core.frame.DataFrame'>\n",
      "Int64Index: 2690 entries, 10000 to 13405\n",
      "Data columns (total 1 columns):\n",
      "type1    2690 non-null object\n",
      "dtypes: object(1)\n",
      "memory usage: 42.0+ KB\n",
      "None\n"
     ]
    }
   ],
   "source": [
    "import pandas as pd\n",
    "\n",
    "#数据处理\n",
    "#将同一个cell 的各类poi 合并\n",
    "data = pd.read_csv(r'..\\data\\poi_21class_xy-.csv',usecols=['cell','type1','numbers']) \n",
    "data['type1'] = data['type1'].astype(str)\n",
    "data['type1'] = data['type1'].apply(lambda x:' '+ str(x))\n",
    "data['type1'] = data['type1'] * data['numbers']\n",
    "data = data[['cell','type1']]\n",
    "data = data.groupby(by='cell').sum()\n",
    "data['type1'] = data['type1'].apply(lambda x: x[1:])\n",
    "print(data.head())\n",
    "print(data.info())\n",
    "x_train = data['type1']"
   ]
  },
  {
   "cell_type": "code",
   "execution_count": 25,
   "metadata": {},
   "outputs": [
    {
     "data": {
      "text/plain": [
       "(2690, 11)"
      ]
     },
     "execution_count": 25,
     "metadata": {},
     "output_type": "execute_result"
    }
   ],
   "source": [
    "from sklearn.feature_extraction.text import CountVectorizer\n",
    "from sklearn.feature_extraction.text import TfidfTransformer\n",
    " \n",
    "\n",
    "#该类会将文本中的词语转换为词频矩阵，矩阵元素a[i][j] 表示j词在i类文本下的词频\n",
    "count_vect = CountVectorizer()\n",
    "X_train_counts = count_vect.fit_transform(x_train)\n",
    "X_train_counts.shape\n"
   ]
  },
  {
   "cell_type": "code",
   "execution_count": 31,
   "metadata": {},
   "outputs": [
    {
     "name": "stdout",
     "output_type": "stream",
     "text": [
      "(2690, 11) <class 'scipy.sparse.csr.csr_matrix'>\n"
     ]
    }
   ],
   "source": [
    "#建立模型\n",
    "tfidf_transformer = TfidfTransformer()\n",
    "X_train_tfidf = tfidf_transformer.fit_transform(X_train_counts)\n",
    "print(X_train_tfidf.shape,type(X_train_tfidf))\n"
   ]
  },
  {
   "cell_type": "code",
   "execution_count": 45,
   "metadata": {},
   "outputs": [
    {
     "name": "stdout",
     "output_type": "stream",
     "text": [
      "(2690, 11) <class 'numpy.ndarray'>\n",
      "<class 'pandas.core.frame.DataFrame'>\n",
      "Int64Index: 2690 entries, 10000 to 13405\n",
      "Data columns (total 1 columns):\n",
      "type1    2690 non-null object\n",
      "dtypes: object(1)\n",
      "memory usage: 42.0+ KB\n",
      "None\n",
      "        0         1         2         3         4         5         6   \\\n",
      "cell                                                                     \n",
      "10000  0.0  0.319796  0.713434  0.436462  0.225243  0.271593  0.092283   \n",
      "10001  0.0  0.562678  0.075102  0.268783  0.106700  0.294071  0.000000   \n",
      "10003  0.0  0.000000  0.000000  0.000000  0.000000  0.000000  0.000000   \n",
      "10004  0.0  0.843110  0.235112  0.230138  0.296915  0.230152  0.060824   \n",
      "10005  0.0  0.510730  0.708954  0.243968  0.314759  0.130124  0.103166   \n",
      "\n",
      "             7    8         9         10  \n",
      "cell                                      \n",
      "10000  0.119540  0.0  0.000000  0.225702  \n",
      "10001  0.056627  0.0  0.080578  0.705654  \n",
      "10003  0.000000  0.0  0.883299  0.468810  \n",
      "10004  0.118184  0.0  0.000000  0.148760  \n",
      "10005  0.200458  0.0  0.000000  0.100928  \n"
     ]
    }
   ],
   "source": [
    "#输出模型\n",
    "x_train_weight = X_train_tfidf.toarray()\n",
    "print(x_train_weight.shape,type(x_train_weight))\n",
    "x_train_pd = pd.DataFrame(x_train_weight,index=data.index)\n",
    "print(data.info())\n",
    "# print(x_train_pd.shape,x_train_pd.info(),type(x_train_pd))\n",
    "print(x_train_pd.head())\n",
    "x_train_pd.to_csv(r'../result/tf_idf_poi.csv')"
   ]
  },
  {
   "cell_type": "code",
   "execution_count": null,
   "metadata": {},
   "outputs": [],
   "source": [
    "\n",
    "#使用模型\n",
    "# X_new_counts = count_vect.transform(docs_new)\n",
    "# X_new_tfidf = tfidf_transformer.transform(X_new_counts)\n",
    "\n"
   ]
  }
 ],
 "metadata": {
  "kernelspec": {
   "display_name": "Python 3",
   "language": "python",
   "name": "python3"
  },
  "language_info": {
   "codemirror_mode": {
    "name": "ipython",
    "version": 3
   },
   "file_extension": ".py",
   "mimetype": "text/x-python",
   "name": "python",
   "nbconvert_exporter": "python",
   "pygments_lexer": "ipython3",
   "version": "3.7.0"
  }
 },
 "nbformat": 4,
 "nbformat_minor": 2
}
