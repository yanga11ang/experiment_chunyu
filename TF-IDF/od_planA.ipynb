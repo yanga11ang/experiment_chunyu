{
 "cells": [
  {
   "cell_type": "code",
   "execution_count": 3,
   "metadata": {},
   "outputs": [
    {
     "name": "stdout",
     "output_type": "stream",
     "text": [
      "                                                    start\n",
      "end                                                      \n",
      " 10000  0561126991017811002114431185212244102071142613...\n",
      " 10001  2225108031012910663101551179410652104291012910...\n",
      " 10002  0416122221076210499104161041610416104681046510...\n",
      " 10003  0356123381230711306118961034710334101811034210...\n",
      " 10004  0329123371036510331103301273012043103581073911...\n",
      "<class 'pandas.core.frame.DataFrame'>\n",
      "Index: 2139 entries,  10000 to  13402\n",
      "Data columns (total 1 columns):\n",
      "start    2139 non-null object\n",
      "dtypes: object(1)\n",
      "memory usage: 33.4+ KB\n",
      "None\n"
     ]
    }
   ],
   "source": [
    "import pandas as pd\n",
    "\n",
    "#数据处理\n",
    "#将终点相同的cell合并，一列终点cell，一列起点cell的字符串集合\n",
    "#数据有问题，需要先将 ' '换成',', 用txt 替换可以，\n",
    "#给数据加列名 ，user，start，end，time1，time2\n",
    "data = pd.read_csv(r'..\\data\\od.csv',usecols=['start','end']) \n",
    "data['start'] = data['start'].astype(str)\n",
    "data['end'] = data['end'].astype(str)\n",
    "data['end'] = data['end'].apply(lambda x:' '+ str(x))\n",
    "data = data[['start','end']]\n",
    "data = data.groupby(by='end').sum()\n",
    "data['start'] = data['start'].apply(lambda x: x[1:])\n",
    "print(data.head())\n",
    "print(data.info())\n",
    "x_train = data['start']"
   ]
  },
  {
   "cell_type": "code",
   "execution_count": 4,
   "metadata": {},
   "outputs": [
    {
     "data": {
      "text/plain": [
       "(2139, 2139)"
      ]
     },
     "execution_count": 4,
     "metadata": {},
     "output_type": "execute_result"
    }
   ],
   "source": [
    "from sklearn.feature_extraction.text import CountVectorizer\n",
    "from sklearn.feature_extraction.text import TfidfTransformer\n",
    " \n",
    "\n",
    "#该类会将文本中的词语转换为词频矩阵，矩阵元素a[i][j] 表示j词在i类文本下的词频\n",
    "count_vect = CountVectorizer()\n",
    "X_train_counts = count_vect.fit_transform(x_train)\n",
    "X_train_counts.shape\n"
   ]
  },
  {
   "cell_type": "code",
   "execution_count": 5,
   "metadata": {},
   "outputs": [
    {
     "name": "stdout",
     "output_type": "stream",
     "text": [
      "(2139, 2139) <class 'scipy.sparse.csr.csr_matrix'>\n"
     ]
    }
   ],
   "source": [
    "#建立模型\n",
    "tfidf_transformer = TfidfTransformer()\n",
    "X_train_tfidf = tfidf_transformer.fit_transform(X_train_counts)\n",
    "print(X_train_tfidf.shape,type(X_train_tfidf))\n"
   ]
  },
  {
   "cell_type": "code",
   "execution_count": 6,
   "metadata": {},
   "outputs": [],
   "source": [
    "#输出模型\n",
    "x_train_weight = X_train_tfidf.toarray()\n",
    "# print(x_train_weight.shape,type(x_train_weight))\n",
    "x_train_pd = pd.DataFrame(x_train_weight,index=data.index)\n",
    "# print(data.info())\n",
    "# print(x_train_pd.shape,x_train_pd.info(),type(x_train_pd))\n",
    "# print(x_train_pd.head())\n",
    "x_train_pd.to_csv(r'../result/tf_idf_od.csv')"
   ]
  },
  {
   "cell_type": "code",
   "execution_count": null,
   "metadata": {},
   "outputs": [],
   "source": [
    "\n",
    "#使用模型\n",
    "# X_new_counts = count_vect.transform(docs_new)\n",
    "# X_new_tfidf = tfidf_transformer.transform(X_new_counts)\n",
    "\n"
   ]
  }
 ],
 "metadata": {
  "kernelspec": {
   "display_name": "Python 3",
   "language": "python",
   "name": "python3"
  },
  "language_info": {
   "codemirror_mode": {
    "name": "ipython",
    "version": 3
   },
   "file_extension": ".py",
   "mimetype": "text/x-python",
   "name": "python",
   "nbconvert_exporter": "python",
   "pygments_lexer": "ipython3",
   "version": "3.7.0"
  }
 },
 "nbformat": 4,
 "nbformat_minor": 2
}
